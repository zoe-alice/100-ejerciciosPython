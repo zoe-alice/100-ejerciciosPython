{
 "cells": [
  {
   "cell_type": "code",
   "execution_count": null,
   "id": "e83de5c5",
   "metadata": {},
   "outputs": [],
   "source": [
    "#EJERCICIOS 01: INGRESAR UNA EDAD, Y DEFINIR SI ES UN NIÑO, PUVER, ADOLESCENTE , JOVEN O ADULTO. UTILIZAR SWITCH"
   ]
  },
  {
   "cell_type": "code",
   "execution_count": 1,
   "id": "e305ec39",
   "metadata": {},
   "outputs": [
    {
     "name": "stdout",
     "output_type": "stream",
     "text": [
      "ESCRIBA UNA ORACION: welcome to my pais\n",
      "welcome to my pais\n"
     ]
    }
   ],
   "source": [
    "#EJERCICIOS 02: INGRESAR UNA CADENA DE TEXTO CUALQUIERA, Y DEVOLVER CAMBIANDO LA A POR @\n",
    "cadena=input(\"ESCRIBA UNA ORACION: \")\n",
    "texto=cadena.replace(\"A\", \"@\")\n",
    "print(texto)"
   ]
  },
  {
   "cell_type": "code",
   "execution_count": 65,
   "id": "8474dc0f",
   "metadata": {},
   "outputs": [
    {
     "name": "stdout",
     "output_type": "stream",
     "text": [
      "INGRESE UN NUMERO: 25\n",
      "el binario de 0 es = 11001\n"
     ]
    }
   ],
   "source": [
    "#EJERCICIOS 03:  INGRESAR UN NUMERO Y DEVOLVER EN BINARIO\n",
    "numero=int(input('INGRESE UN NUMERO: '))\n",
    "binario=\"\"\n",
    "while numero>0:\n",
    "    #obtenemos el resto\n",
    "    resto=numero%2\n",
    "    #el resultado del resto lo convertimos a un string y lo concatenamos con el nuevo resto\n",
    "    binario=str(resto)+binario\n",
    "    #el numero ingresado lo dividimos entre 2 para obtener un nuevo valor\n",
    "    numero=numero//2\n",
    "print(f\"el binario de {numero} es = {binario}\")"
   ]
  },
  {
   "cell_type": "code",
   "execution_count": 63,
   "id": "dbc9d172",
   "metadata": {},
   "outputs": [
    {
     "name": "stdout",
     "output_type": "stream",
     "text": [
      "INGRESE UN NUMERO: 25.5\n",
      "Número binario: 11001.1\n"
     ]
    }
   ],
   "source": [
    "# De decimal a binario\n",
    "decimal=float(input('INGRESE UN NUMERO: '))\n",
    "# Convierte la parte entera a binario\n",
    "parte_entera = bin(int(decimal))\n",
    "\n",
    "# Convierte la parte fraccional a binario\n",
    "parte_fraccional = \"\"\n",
    "fraccional = decimal - int(decimal)\n",
    "while fraccional > 0:\n",
    "    fraccional *= 2\n",
    "    parte_fraccional += str(int(fraccional))\n",
    "    if fraccional >= 1:\n",
    "        fraccional -= 1\n",
    "\n",
    "# Combina la parte entera y la parte fraccional\n",
    "numero_binario = f\"{parte_entera[2:]}.{parte_fraccional}\"\n",
    "\n",
    "print(\"Número binario:\", numero_binario)"
   ]
  },
  {
   "cell_type": "code",
   "execution_count": 68,
   "id": "8a79efc1",
   "metadata": {},
   "outputs": [
    {
     "name": "stdout",
     "output_type": "stream",
     "text": [
      "número en binario: 101000\n",
      "en decimal:  40\n"
     ]
    }
   ],
   "source": [
    "#EJERCICIOS 04:  INGRESAR UN NUMERO DE DECIMAL A NINARIO\n",
    "# Binario a Decimal\n",
    "\n",
    "binario = int(input(\"número en binario: \"))\n",
    "\n",
    "decimal = 0\n",
    "i = 0\n",
    "while (binario>0):\n",
    "    digito  = binario%10\n",
    "    binario = int(binario//10)\n",
    "    decimal = decimal+digito*(2**i)\n",
    "    i = i+1\n",
    "# SALIDA\n",
    "print(\"en decimal: \",decimal)"
   ]
  },
  {
   "cell_type": "code",
   "execution_count": 67,
   "id": "399d2fa1",
   "metadata": {},
   "outputs": [
    {
     "name": "stdout",
     "output_type": "stream",
     "text": [
      "INGRESE UN NUMERO: 255\n",
      "Número hexadecimal: FF\n"
     ]
    }
   ],
   "source": [
    "#EJERCICIOS 05: INGRESAR UN NUMERO Y CONVERTIR EN HEXAGECIMAL\n",
    "\n",
    "decimal=int(input('INGRESE UN NUMERO: '))\n",
    "hexadecimal = \"\"\n",
    "\n",
    "while decimal > 0:\n",
    "    cociente, residuo = divmod(decimal, 16)\n",
    "    if residuo < 10:\n",
    "        hexadecimal = str(residuo) + hexadecimal\n",
    "    else:\n",
    "        hexadecimal = chr(ord('A') + (residuo - 10)) + hexadecimal\n",
    "    decimal = cociente\n",
    "\n",
    "print(\"Número hexadecimal:\", hexadecimal)"
   ]
  },
  {
   "cell_type": "code",
   "execution_count": 17,
   "id": "c452487c",
   "metadata": {},
   "outputs": [
    {
     "name": "stdout",
     "output_type": "stream",
     "text": [
      "Ingrese un numero: 5\n",
      "1 x 2 x 3 x 4 x 5 = 120\n"
     ]
    }
   ],
   "source": [
    "#EJERCICIO 06: HALLAR EL FACTORIAL DE UN NUMERO\n",
    "num=int(input(\"Ingrese un numero: \"))\n",
    "factorial=1\n",
    "caracter=\"\"\n",
    "for x in range(1,num+1):\n",
    "    \n",
    "    caracter=caracter+str(x)\n",
    "    if x<num:\n",
    "        caracter=caracter+\" x \"\n",
    "    factorial=factorial*x\n",
    "print(caracter, \"=\",factorial)\n",
    "        \n",
    "        \n"
   ]
  },
  {
   "cell_type": "code",
   "execution_count": 24,
   "id": "662bbe13",
   "metadata": {},
   "outputs": [
    {
     "name": "stdout",
     "output_type": "stream",
     "text": [
      "ingrese un numero: 4\n",
      "1\n",
      "2\n",
      "3\n",
      "4\n",
      "1 x 2 x 3 x 4 = 24\n"
     ]
    }
   ],
   "source": [
    "#fact\n",
    "number=int(input('ingrese un numero: '))\n",
    "fact=1\n",
    "char=\"\"\n",
    "for item in range(1,number+1):\n",
    "    char=char+str(item)\n",
    "    if item<number:\n",
    "        char=char + \" x \"\n",
    "    fact=fact*item\n",
    "    print(item)\n",
    "print(f\"{char} = {fact}\")"
   ]
  },
  {
   "cell_type": "code",
   "execution_count": 20,
   "id": "62ce8824",
   "metadata": {},
   "outputs": [
    {
     "name": "stdout",
     "output_type": "stream",
     "text": [
      "1 - 2 - 3 - 4 - 5  =  suma\n"
     ]
    }
   ],
   "source": [
    "# un for de 1-5\n",
    "a=5\n",
    "caracter=\"\"\n",
    "for item in range(1,a+1):\n",
    "    caracter=caracter+str(item)\n",
    "    if item<a:\n",
    "        caracter=caracter+\" - \"\n",
    "print(caracter, \" = \", \"suma\")"
   ]
  },
  {
   "cell_type": "code",
   "execution_count": 37,
   "id": "a24f05cd",
   "metadata": {},
   "outputs": [
    {
     "name": "stdout",
     "output_type": "stream",
     "text": [
      "ESCRIBA UNA ORACION: HOLA COMO ESTAS\n",
      "HOLA COMO ESTAS\n",
      "hola como estas\n"
     ]
    }
   ],
   "source": [
    "#EJERCICIO 07:  INGRESAR UN NOMBRE Y CONVERTIR EN MAYUSCULA\n",
    "cadena=input(\"ESCRIBA UNA ORACION: \")\n",
    "mayuscula=cadena.upper()\n",
    "minuscula=cadena.lower()\n",
    "print(mayuscula)\n",
    "print(minuscula)\n"
   ]
  },
  {
   "cell_type": "code",
   "execution_count": 50,
   "id": "5bd2ebba",
   "metadata": {},
   "outputs": [
    {
     "name": "stdout",
     "output_type": "stream",
     "text": [
      "INGRESE UN DIA DE LA SEMANA1\n",
      "es un dia LUNES\n"
     ]
    }
   ],
   "source": [
    "#EJERCICIO 08: INGRESAR UN DIA DE LA SEMANA Y DECIR QUE DIA ES\n",
    "#switch no existe como en los demas lenguajes, se podria utilizar if, elif, else o en todo caso una funcion\n",
    "##### PERIMA FORMA  #####\n",
    "dia=int(input(\"INGRESE UN DIA DE LA SEMANA\"))\n",
    "if dia==1:\n",
    "    print(\"es un dia LUNES\")\n",
    "elif dia==2:\n",
    "    print(\"es un dia MARTES\")\n",
    "elif dia==3:\n",
    "    print(\"es un dia MIERCOLES\")\n",
    "elif dia==4:\n",
    "    print(\"es un dia JUEVES\")\n",
    "elif dia==5:\n",
    "    print(\"es un dia VIERNES\")\n",
    "elif dia==6:\n",
    "    print(\"es un dia SABADO\")\n",
    "elif dia==7:\n",
    "    print(\"es un dia DOMINGO\")\n",
    "else:\n",
    "    print(\"OPCION NO VALIDA\")"
   ]
  },
  {
   "cell_type": "code",
   "execution_count": 53,
   "id": "d29480b0",
   "metadata": {},
   "outputs": [
    {
     "name": "stdout",
     "output_type": "stream",
     "text": [
      "3 x 1 = 3 \n",
      "3 x 2 = 6 \n",
      "3 x 3 = 9 \n",
      "3 x 4 = 12 \n",
      "3 x 5 = 15 \n",
      "3 x 6 = 18 \n",
      "3 x 7 = 21 \n",
      "3 x 8 = 24 \n",
      "3 x 9 = 27 \n",
      "3 x 10 = 30 \n"
     ]
    }
   ],
   "source": [
    "#EJERCICIO 09: INGRESAR UN NUMERO Y HALLAR SU MULTIPLO en un rango de 1-30\n",
    "numero=3\n",
    "print(\"MULTIPLO DE UN NUMERO: \")\n",
    "for item in range(1,31):\n",
    "    resultado=numero*item\n",
    "    if resultado<31:\n",
    "        print(f\"{numero} x {item} = {resultado} \")"
   ]
  },
  {
   "cell_type": "code",
   "execution_count": 60,
   "id": "c59bd0f7",
   "metadata": {},
   "outputs": [
    {
     "name": "stdout",
     "output_type": "stream",
     "text": [
      "INGRESE UN NUMERO12\n",
      "DIVISORES DE 12: \n",
      "1\n",
      "2\n",
      "3\n",
      "4\n",
      "6\n",
      "12\n",
      "TOTAL DE DIVISIORES:  6\n"
     ]
    }
   ],
   "source": [
    "#EJERCICIO 10: INGRESAR UN NUMERO Y HALLAR SU DIVISOR\n",
    "num=int(input('INGRESE UN NUMERO'))\n",
    "result=1\n",
    "count=0\n",
    "print(f\"DIVISORES DE {num}: \")\n",
    "for item in range(1, num+1):\n",
    "    if num%item==0:\n",
    "        count=count+1\n",
    "        print(item)\n",
    "print(\"TOTAL DE DIVISIORES: \", count)"
   ]
  },
  {
   "cell_type": "code",
   "execution_count": null,
   "id": "a406ed90",
   "metadata": {},
   "outputs": [],
   "source": []
  }
 ],
 "metadata": {
  "kernelspec": {
   "display_name": "Python 3 (ipykernel)",
   "language": "python",
   "name": "python3"
  },
  "language_info": {
   "codemirror_mode": {
    "name": "ipython",
    "version": 3
   },
   "file_extension": ".py",
   "mimetype": "text/x-python",
   "name": "python",
   "nbconvert_exporter": "python",
   "pygments_lexer": "ipython3",
   "version": "3.11.5"
  }
 },
 "nbformat": 4,
 "nbformat_minor": 5
}
